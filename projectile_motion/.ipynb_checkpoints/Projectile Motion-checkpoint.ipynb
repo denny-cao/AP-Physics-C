{
 "cells": [
  {
   "cell_type": "code",
   "execution_count": null,
   "id": "c8e825a6",
   "metadata": {},
   "outputs": [],
   "source": [
    "from vpython import *\n",
    "from numpy import random\n",
    "import scipy as sp"
   ]
  },
  {
   "cell_type": "code",
   "execution_count": null,
   "id": "395945e8",
   "metadata": {},
   "outputs": [],
   "source": [
    "rng = random.default_rng(seed=2022)"
   ]
  }
 ],
 "metadata": {
  "kernelspec": {
   "display_name": "Python 3 (ipykernel)",
   "language": "python",
   "name": "python3"
  },
  "language_info": {
   "codemirror_mode": {
    "name": "ipython",
    "version": 3
   },
   "file_extension": ".py",
   "mimetype": "text/x-python",
   "name": "python",
   "nbconvert_exporter": "python",
   "pygments_lexer": "ipython3",
   "version": "3.10.4"
  }
 },
 "nbformat": 4,
 "nbformat_minor": 5
}
