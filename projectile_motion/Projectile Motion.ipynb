{
 "cells": [
  {
   "cell_type": "code",
   "execution_count": 3,
   "id": "1f2b5590",
   "metadata": {},
   "outputs": [],
   "source": [
    "from vpython import *\n",
    "from numpy import random\n",
    "\n",
    "rng = random.default_rng(seed=2022)"
   ]
  },
  {
   "cell_type": "code",
   "execution_count": null,
   "id": "ac8e2986",
   "metadata": {},
   "outputs": [],
   "source": [
    "scene1 = canvas()\n",
    "\n",
    "earth = Sphere(canvas=scene1, pos=(0,0,0), radius=1, color=color.blue)\n",
    "\n",
    "while t < "
   ]
  }
 ],
 "metadata": {
  "kernelspec": {
   "display_name": "Python 3 (ipykernel)",
   "language": "python",
   "name": "python3"
  },
  "language_info": {
   "codemirror_mode": {
    "name": "ipython",
    "version": 3
   },
   "file_extension": ".py",
   "mimetype": "text/x-python",
   "name": "python",
   "nbconvert_exporter": "python",
   "pygments_lexer": "ipython3",
   "version": "3.10.4"
  }
 },
 "nbformat": 4,
 "nbformat_minor": 5
}
